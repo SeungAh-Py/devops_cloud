{
 "cells": [
  {
   "cell_type": "markdown",
   "id": "2e2670c1",
   "metadata": {},
   "source": [
    "#  1. 프로젝트 생성"
   ]
  },
  {
   "cell_type": "markdown",
   "id": "2bd1d10c",
   "metadata": {},
   "source": [
    "## #새프로젝트 생성"
   ]
  },
  {
   "cell_type": "markdown",
   "id": "e9a5e1a0",
   "metadata": {},
   "source": [
    "#### PS\n",
    "1. ``django-admin --version``\n",
    "\n",
    " -> 장고 버전 확인\n",
    "\n",
    "\n",
    "2. ``django-admin startproject 새프로젝트`` # 새포르젝트 생성\n",
    "\n",
    "\n",
    "3. ``python .\\manage.py migrate``\n",
    "\n",
    " -> django 에서 기본 지원하는 app(``admin``, ``auth``, ``contenttypes``, ``sessions``) 을 사용할 수 있게 해주는(적용) 과정\n",
    "\n",
    "\n",
    "4. ``python manage.py runserver`` # 서버구동 (``프로젝트가 있는 최상위 폴더에서``)\n",
    "\n",
    "\n",
    "5. ``python .\\manage.py showmigrations``\n",
    "\n",
    " -> 마이그레이션 적용 현황 출력 (적용되면 [x]표시가 됨)"
   ]
  },
  {
   "cell_type": "markdown",
   "id": "f57ec4d2",
   "metadata": {},
   "source": [
    "#### Pycharm\n",
    "\n",
    "1. 해당 프로젝트 열기 (homework13)\n",
    "\n",
    "\n",
    "2. 최상단 폴더에 ```.gitignore``` 파일 생성\n",
    " + ```.gitignore ``` 생성하는 이유 : github에 commit 할때에 있어서 프로젝트 생성에 자동으로 생성되는 파일들은 필요 없기 때문에\n",
    " + ```.파일명``` 파일은 리눅스 계열에서 숨겨진 파일을 의미함\n",
    " + 만약 ```.gitignore``` 파일에 자동 생성 파일들(```.idea```, ```__pycache__```, ```db.sqlite3```, ```media```)을 빼놓고 commit 했을 경우\n",
    " + cli 프로그램(PS) 에 ```git restore --stage 파일명``` 으로 commit 된 파일을 빼준다.\n",
    " + ```git status``` 로 항상 추가 되는 파일을 확인해줄것!"
   ]
  },
  {
   "cell_type": "code",
   "execution_count": null,
   "id": "0d642f57",
   "metadata": {},
   "outputs": [],
   "source": []
  },
  {
   "cell_type": "markdown",
   "id": "39ec035e",
   "metadata": {},
   "source": [
    "# 2. MEDIA 설정 추가"
   ]
  },
  {
   "cell_type": "markdown",
   "id": "b64e8ba8",
   "metadata": {},
   "source": [
    "## #프로젝트(homework13) 폴더 안의 settings.py에 들어가서 코드 추가"
   ]
  },
  {
   "cell_type": "markdown",
   "id": "f9b02412",
   "metadata": {},
   "source": [
    "1. 프로젝트명의 폴더의 ```settings.py ``` 파일에 들어가서\n",
    " + ```STATIC_URL = ~```의 하단에 아래의 코드를 추가 작성 한다.\n",
    " + \n",
    "```\n",
    "MEDIA_URL = '/media/'\n",
    "MEDIA_ROOT = BASE_DIR / 'media'\n",
    "```"
   ]
  },
  {
   "cell_type": "markdown",
   "id": "cbb02aa9",
   "metadata": {},
   "source": [
    "## #프로젝트(homework13) 폴더의 urls.py 에 들어가서 코드 추가"
   ]
  },
  {
   "cell_type": "markdown",
   "id": "4c153420",
   "metadata": {},
   "source": [
    "1. 프로젝트명의 폴더의 ``urls.py`` 파일에 들어가서\n",
    " + 가장 하단에 아래의 코드를 추가 작성한다.\n",
    " + \n",
    "``` urlpatterns += static(settings.MEDIA_URL, document_root=settings.MEDIA_ROOT) ```\n",
    " + pycharm 은 작성시에 밑줄이 그어진 단어에 가서 ``Alt + Enter`` 로 쉽게 ``import`` 구문을 완성할 수 있다.\n",
    "\n",
    "\n",
    "2. 위에 import 구문을 추가해준다.\n",
    " + 추가 코드\n",
    " + \n",
    "```\n",
    "from django.conf import settings\n",
    "from django.conf.urls.static import static\n",
    "```"
   ]
  },
  {
   "cell_type": "code",
   "execution_count": null,
   "id": "c64c8288",
   "metadata": {},
   "outputs": [],
   "source": []
  },
  {
   "cell_type": "markdown",
   "id": "3172e3fb",
   "metadata": {},
   "source": [
    "# 3. mall 앱(app) 생성 및 등록"
   ]
  },
  {
   "cell_type": "markdown",
   "id": "6d630188",
   "metadata": {},
   "source": [
    "## #앱 생성"
   ]
  },
  {
   "cell_type": "markdown",
   "id": "b2385f3b",
   "metadata": {},
   "source": [
    "#### PS\n",
    "\n",
    " 1. ``cd dev\\homework13`` ``python .\\manage.py startapp 앱이름(mall)``\n",
    "\n",
    "\n",
    "#### Pycharm\n",
    "\n",
    " 1. 프로젝트(homework13) 폴더 안의 ``settings.py``에 들어가서 코드 추가\n",
    " \n",
    "  + ``INSTALLED_APPS`` 안에 앱 추가\n",
    "  \n",
    "  + `` '앱이름', `` 추가 (!!주의사항!!  ``,`` 를 꼭 추가 해줘야 한다.)\n",
    " "
   ]
  },
  {
   "cell_type": "code",
   "execution_count": null,
   "id": "0034dfbb",
   "metadata": {},
   "outputs": [],
   "source": []
  },
  {
   "cell_type": "markdown",
   "id": "adf54cac",
   "metadata": {},
   "source": [
    "# 4. requirements.txt 추가"
   ]
  },
  {
   "cell_type": "markdown",
   "id": "895a9073",
   "metadata": {},
   "source": [
    "## #requirements.txt 추가\n"
   ]
  },
  {
   "cell_type": "markdown",
   "id": "ca5f0331",
   "metadata": {},
   "source": [
    "1. 프로젝트 최상위 폴더에 ``requirements.txt`` 생성\n",
    "\n",
    "\n",
    "2. 필요한 라이브러리 및 장고 버전 작성\n",
    "\n",
    " 예시)\n",
    " \n",
    " + ``django~=3.2.0 ``\n",
    " + ``pillow``\n",
    " + ``django-debug-toolbar``"
   ]
  },
  {
   "cell_type": "code",
   "execution_count": null,
   "id": "2b1a9216",
   "metadata": {},
   "outputs": [],
   "source": []
  },
  {
   "cell_type": "markdown",
   "id": "b6f3a97c",
   "metadata": {},
   "source": [
    "# 5. debug 모드 추가"
   ]
  },
  {
   "cell_type": "markdown",
   "id": "00e8663d",
   "metadata": {},
   "source": [
    "## #requirements.txt에 추가"
   ]
  },
  {
   "cell_type": "markdown",
   "id": "e8553b80",
   "metadata": {},
   "source": [
    "1. django-debug-toolbar 추가"
   ]
  },
  {
   "cell_type": "markdown",
   "id": "92d0b5e9",
   "metadata": {},
   "source": [
    "## #settings.py에 추가"
   ]
  },
  {
   "cell_type": "markdown",
   "id": "aae579d1",
   "metadata": {},
   "source": [
    " 1. ``INSTALLED_APPS`` 쪽에 추가(위/아래 상관 없음)\n",
    "\n",
    "  + \n",
    " ```\n",
    " if DEBUG:\n",
    "     INSTALLED_APPS += [\n",
    "         # local apps (외부에서 가져온것)\n",
    "         'debug_toolbar',\n",
    "     ]\n",
    " ```\n",
    " 2. ``MIDDLEWARE`` 쪽에 코드 추가(순서 중요)\n",
    "  + \n",
    " ```\n",
    " if DEBUG:\n",
    "     MIDDLEWARE = [\n",
    "         \"debug_toolar.middleware.DebugToolbarMiddleware\",\n",
    "     ] + MIDDLEWARE    # (MIDDLEWARE 안에 리스트 항목의 최상단에 추가를 해줘야하기 때문에 순서 중요)\n",
    " ```\n",
    " \n",
    " 3. ``INTERNAL_IPS`` 추가\n",
    "  + \n",
    " ```\n",
    " INTERNAL_IPS = ['127.0.0.1']   # runserver 돌리면 출력되는 주소를 넣으면 됨\n",
    " ```\n",
    " "
   ]
  },
  {
   "cell_type": "markdown",
   "id": "e95dd1d4",
   "metadata": {},
   "source": [
    "## #urls.py에 추가"
   ]
  },
  {
   "cell_type": "markdown",
   "id": "97c39c36",
   "metadata": {},
   "source": [
    " 1. 프로젝트명의 폴더의 ``urls.py`` 파일에 들어가서\n",
    "  + 가장 하단에 아래의 코드를 추가 작성한다.\n",
    "  + \n",
    "``` \n",
    "if setting.DEBUG:\n",
    "    import debug_toolbar\n",
    "    urlpattern += [\n",
    "        path('__debug__/', include(debug_toolbar.urls)),\n",
    "    ]\n",
    "```\n",
    "  + pycharm 은 작성시에 밑줄이 그어진 단어에 가서 ``Alt + Enter`` 로 쉽게 ``import`` 구문을 완성할 수 있다.\n",
    "\n",
    "\n",
    " 2. 위에 import 구문을 추가해준다.\n",
    "  + 추가 코드\n",
    "  +   ``from django.urls import include``\n",
    "  \n"
   ]
  },
  {
   "cell_type": "markdown",
   "id": "7f1a8cd4",
   "metadata": {},
   "source": []
  },
  {
   "cell_type": "markdown",
   "id": "339d032f",
   "metadata": {},
   "source": []
  }
 ],
 "metadata": {
  "kernelspec": {
   "display_name": "Python 3 (ipykernel)",
   "language": "python",
   "name": "python3"
  },
  "language_info": {
   "codemirror_mode": {
    "name": "ipython",
    "version": 3
   },
   "file_extension": ".py",
   "mimetype": "text/x-python",
   "name": "python",
   "nbconvert_exporter": "python",
   "pygments_lexer": "ipython3",
   "version": "3.10.0"
  }
 },
 "nbformat": 4,
 "nbformat_minor": 5
}
