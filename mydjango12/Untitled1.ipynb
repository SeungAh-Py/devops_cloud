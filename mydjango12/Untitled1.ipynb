{
 "cells": [
  {
   "cell_type": "markdown",
   "id": "3dfd08a4",
   "metadata": {},
   "source": [
    "# migration 적용 방법"
   ]
  },
  {
   "cell_type": "markdown",
   "id": "c23729d7",
   "metadata": {},
   "source": [
    "+ 모델 만들고, 변경을 하고 싶다면, 수정/삭제를 하고나서 makemigrations 명령\n",
    "+ 이후 migrate 명령을 하면 된다.\n",
    "+ makemigrations 에서는 복구(취소)명령을 하게 되면, 테이블의 칼럼을 살릴수는 있지만, 데이터까지 복구 x"
   ]
  },
  {
   "cell_type": "markdown",
   "id": "f84c1067",
   "metadata": {},
   "source": [
    "## migrate 정/역 방향"
   ]
  },
  {
   "cell_type": "code",
   "execution_count": null,
   "id": "3db55f63",
   "metadata": {},
   "outputs": [],
   "source": []
  }
 ],
 "metadata": {
  "kernelspec": {
   "display_name": "Python 3 (ipykernel)",
   "language": "python",
   "name": "python3"
  },
  "language_info": {
   "codemirror_mode": {
    "name": "ipython",
    "version": 3
   },
   "file_extension": ".py",
   "mimetype": "text/x-python",
   "name": "python",
   "nbconvert_exporter": "python",
   "pygments_lexer": "ipython3",
   "version": "3.10.0"
  }
 },
 "nbformat": 4,
 "nbformat_minor": 5
}
