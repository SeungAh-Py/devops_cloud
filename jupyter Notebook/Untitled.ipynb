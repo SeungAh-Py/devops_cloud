{
 "cells": [
  {
   "cell_type": "markdown",
   "id": "fb4075be",
   "metadata": {},
   "source": [
    "## Geocoding"
   ]
  },
  {
   "cell_type": "markdown",
   "id": "ffc25ea2",
   "metadata": {},
   "source": [
    "+ 위도/경도의 위치를 코딩하는 것\n",
    "+ 구글 드라이브에 들어가서 구글 스프레드 시트 생성\n",
    "+ 확장프로그램에 geocoding smartmonkey 설치\n"
   ]
  },
  {
   "cell_type": "code",
   "execution_count": null,
   "id": "868ae164",
   "metadata": {},
   "outputs": [],
   "source": []
  }
 ],
 "metadata": {
  "kernelspec": {
   "display_name": "Python 3 (ipykernel)",
   "language": "python",
   "name": "python3"
  },
  "language_info": {
   "codemirror_mode": {
    "name": "ipython",
    "version": 3
   },
   "file_extension": ".py",
   "mimetype": "text/x-python",
   "name": "python",
   "nbconvert_exporter": "python",
   "pygments_lexer": "ipython3",
   "version": "3.10.0"
  }
 },
 "nbformat": 4,
 "nbformat_minor": 5
}
