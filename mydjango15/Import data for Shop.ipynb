{
 "cells": [
  {
   "cell_type": "code",
   "execution_count": 1,
   "id": "3f6276aa",
   "metadata": {},
   "outputs": [],
   "source": [
    "import os\n",
    "os.environ[\"DJANGO_SETTINGS_MODULE\"] = \"mydjango15.settings\"\n",
    "os.environ[\"DJANGO_ALLOW_ASYNC_UNSAFE\"] = \"true\"\n",
    "\n",
    "import django\n",
    "django.setup()"
   ]
  },
  {
   "cell_type": "code",
   "execution_count": 2,
   "id": "fac672ae",
   "metadata": {},
   "outputs": [
    {
     "data": {
      "text/plain": [
       "[['name', 'description', 'address', 'coordinates', 'telephone'],\n",
       " ['어글리딜리셔스',\n",
       "  '영업시간\\n매일 11:30 - 22:00 Break 15:00-17:00 Last Order (Lunch 14:00 / Dinner 21:00)\\n대동 하늘공원 근처에 위치한 아메리칸 파스타 \\n안가봄',\n",
       "  '대전 동구 백룡로14번길 65',\n",
       "  '36.3331706,127.4470956',\n",
       "  '0507-1376-7459'],\n",
       " ['구름식당',\n",
       "  'soso',\n",
       "  '대전 동구 계족로 184-29',\n",
       "  '36.330929,127.4421915',\n",
       "  '0507-1314-1844'],\n",
       " ['뒤집어진뚝배기',\n",
       "  '우송대학생들의 가성비맛집',\n",
       "  '대전 동구 동대전로131번길 8-11',\n",
       "  '36.3345955,127.4453556',\n",
       "  '042-622-3692'],\n",
       " ['이순신소국밥 가양한산섬점',\n",
       "  '24시간 영업',\n",
       "  '대전 동구 가양로 22',\n",
       "  '36.3393727,127.439489',\n",
       "  '042-627-9992'],\n",
       " ['주먹쫄면',\n",
       "  '주먹밥 굳\\n쫄면 굳',\n",
       "  '대전 동구 동대전로131번길 34',\n",
       "  '36.3348352,127.4443692',\n",
       "  '042-623-6486'],\n",
       " ['온천집',\n",
       "  '비쌈\\n샤브샤브과 일본식 도시락\\n가성비 안좋음',\n",
       "  '대전 동구 수향길 17',\n",
       "  '36.3367513,127.4368689',\n",
       "  '0507-1498-0916'],\n",
       " ['동북아',\n",
       "  '토마토 짬뽕\\n마라랑과 짬뽕 그 어딘가',\n",
       "  '대전 동구 철갑길 45',\n",
       "  '36.3347756,127.4377987',\n",
       "  '0507-1415-3580'],\n",
       " ['치앙마이방콕',\n",
       "  '태국음식점\\n비쌈\\n가성비가 매우 떨어짐',\n",
       "  '대전 동구 철갑3길 8',\n",
       "  '36.3342761,127.4378157',\n",
       "  '0507-1345-7890'],\n",
       " ['슈니첼',\n",
       "  '독일식 돈까스\\n호불호가 심하게 갈림',\n",
       "  '대전 동구 철갑2길 16',\n",
       "  '36.3352042,127.4371307',\n",
       "  '070-4211-3232'],\n",
       " ['김희선제육짜글이',\n",
       "  '안가봄\\n맛있다고함',\n",
       "  '대전 동구 중앙로 266',\n",
       "  '36.3328004,127.4380624',\n",
       "  '042-622-6228']]"
      ]
     },
     "execution_count": 2,
     "metadata": {},
     "output_type": "execute_result"
    }
   ],
   "source": [
    "# pip install openpyxl\n",
    "from openpyxl import load_workbook\n",
    "wb = load_workbook('mydjango15-data.xlsx')\n",
    "sheet = wb.active\n",
    "rows = [\n",
    "    [column.value for column in row]\n",
    "    for row in sheet\n",
    "]\n",
    "rows"
   ]
  },
  {
   "cell_type": "code",
   "execution_count": 4,
   "id": "3bae8520",
   "metadata": {},
   "outputs": [
    {
     "data": {
      "text/plain": [
       "['name', 'description', 'address', 'coordinates', 'telephone']"
      ]
     },
     "execution_count": 4,
     "metadata": {},
     "output_type": "execute_result"
    }
   ],
   "source": [
    "column_names = rows[0]\n",
    "column_names"
   ]
  },
  {
   "cell_type": "code",
   "execution_count": 9,
   "id": "a75ca160",
   "metadata": {},
   "outputs": [
    {
     "data": {
      "text/plain": [
       "[{'name': '어글리딜리셔스',\n",
       "  'description': '영업시간\\n매일 11:30 - 22:00 Break 15:00-17:00 Last Order (Lunch 14:00 / Dinner 21:00)\\n대동 하늘공원 근처에 위치한 아메리칸 파스타 \\n안가봄',\n",
       "  'address': '대전 동구 백룡로14번길 65',\n",
       "  'telephone': '0507-1376-7459',\n",
       "  'latitude': '36.3331706',\n",
       "  'longitude': '127.4470956'},\n",
       " {'name': '구름식당',\n",
       "  'description': 'soso',\n",
       "  'address': '대전 동구 계족로 184-29',\n",
       "  'telephone': '0507-1314-1844',\n",
       "  'latitude': '36.330929',\n",
       "  'longitude': '127.4421915'},\n",
       " {'name': '뒤집어진뚝배기',\n",
       "  'description': '우송대학생들의 가성비맛집',\n",
       "  'address': '대전 동구 동대전로131번길 8-11',\n",
       "  'telephone': '042-622-3692',\n",
       "  'latitude': '36.3345955',\n",
       "  'longitude': '127.4453556'},\n",
       " {'name': '이순신소국밥 가양한산섬점',\n",
       "  'description': '24시간 영업',\n",
       "  'address': '대전 동구 가양로 22',\n",
       "  'telephone': '042-627-9992',\n",
       "  'latitude': '36.3393727',\n",
       "  'longitude': '127.439489'},\n",
       " {'name': '주먹쫄면',\n",
       "  'description': '주먹밥 굳\\n쫄면 굳',\n",
       "  'address': '대전 동구 동대전로131번길 34',\n",
       "  'telephone': '042-623-6486',\n",
       "  'latitude': '36.3348352',\n",
       "  'longitude': '127.4443692'},\n",
       " {'name': '온천집',\n",
       "  'description': '비쌈\\n샤브샤브과 일본식 도시락\\n가성비 안좋음',\n",
       "  'address': '대전 동구 수향길 17',\n",
       "  'telephone': '0507-1498-0916',\n",
       "  'latitude': '36.3367513',\n",
       "  'longitude': '127.4368689'},\n",
       " {'name': '동북아',\n",
       "  'description': '토마토 짬뽕\\n마라랑과 짬뽕 그 어딘가',\n",
       "  'address': '대전 동구 철갑길 45',\n",
       "  'telephone': '0507-1415-3580',\n",
       "  'latitude': '36.3347756',\n",
       "  'longitude': '127.4377987'},\n",
       " {'name': '치앙마이방콕',\n",
       "  'description': '태국음식점\\n비쌈\\n가성비가 매우 떨어짐',\n",
       "  'address': '대전 동구 철갑3길 8',\n",
       "  'telephone': '0507-1345-7890',\n",
       "  'latitude': '36.3342761',\n",
       "  'longitude': '127.4378157'},\n",
       " {'name': '슈니첼',\n",
       "  'description': '독일식 돈까스\\n호불호가 심하게 갈림',\n",
       "  'address': '대전 동구 철갑2길 16',\n",
       "  'telephone': '070-4211-3232',\n",
       "  'latitude': '36.3352042',\n",
       "  'longitude': '127.4371307'},\n",
       " {'name': '김희선제육짜글이',\n",
       "  'description': '안가봄\\n맛있다고함',\n",
       "  'address': '대전 동구 중앙로 266',\n",
       "  'telephone': '042-622-6228',\n",
       "  'latitude': '36.3328004',\n",
       "  'longitude': '127.4380624'}]"
      ]
     },
     "execution_count": 9,
     "metadata": {},
     "output_type": "execute_result"
    }
   ],
   "source": [
    "row_list = []\n",
    "\n",
    "for row in rows[1:]:\n",
    "    if row[0] is None:\n",
    "        break\n",
    "    row_dict = dict(zip(column_names, row))\n",
    "    latitude, longitude = row_dict[\"coordinates\"].split(\",\")\n",
    "    row_dict[\"latitude\"] = latitude\n",
    "    row_dict[\"longitude\"] = longitude\n",
    "    del row_dict[\"coordinates\"]\n",
    "    row_list.append(row_dict)\n",
    "    \n",
    "row_list"
   ]
  },
  {
   "cell_type": "code",
   "execution_count": 10,
   "id": "70c6f0bc",
   "metadata": {},
   "outputs": [],
   "source": [
    "from delicious.models import Shop"
   ]
  },
  {
   "cell_type": "code",
   "execution_count": 14,
   "id": "22d3191f",
   "metadata": {},
   "outputs": [
    {
     "name": "stdout",
     "output_type": "stream",
     "text": [
      "Shop object (1)\n",
      "Shop object (2)\n",
      "Shop object (3)\n",
      "Shop object (4)\n",
      "Shop object (5)\n",
      "Shop object (6)\n",
      "Shop object (7)\n",
      "Shop object (8)\n",
      "Shop object (9)\n",
      "Shop object (10)\n"
     ]
    }
   ],
   "source": [
    "for row_dict in row_list:\n",
    "    shop = Shop(**row_dict) # unpack\n",
    "    shop.save()\n",
    "    print(shop)"
   ]
  },
  {
   "cell_type": "code",
   "execution_count": null,
   "id": "195a6345",
   "metadata": {},
   "outputs": [],
   "source": []
  }
 ],
 "metadata": {
  "kernelspec": {
   "display_name": "Python 3 (ipykernel)",
   "language": "python",
   "name": "python3"
  },
  "language_info": {
   "codemirror_mode": {
    "name": "ipython",
    "version": 3
   },
   "file_extension": ".py",
   "mimetype": "text/x-python",
   "name": "python",
   "nbconvert_exporter": "python",
   "pygments_lexer": "ipython3",
   "version": "3.10.0"
  }
 },
 "nbformat": 4,
 "nbformat_minor": 5
}
