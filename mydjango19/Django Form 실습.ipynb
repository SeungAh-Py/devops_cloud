{
 "cells": [
  {
   "cell_type": "code",
   "execution_count": 1,
   "id": "67b956b4",
   "metadata": {},
   "outputs": [],
   "source": [
    "import os\n",
    "\n",
    "os.environ[\"DJANGO_SETTINGS_MODULE\"] = \"mydjango17.settings\"\n",
    "os.environ[\"DJANGO_ALLOW_ASYNC_UNSAFE\"] = \"true\"\n",
    "\n",
    "import django\n",
    "django.setup()"
   ]
  },
  {
   "cell_type": "code",
   "execution_count": 12,
   "id": "954d834d",
   "metadata": {},
   "outputs": [],
   "source": [
    "from django import forms\n",
    "from django.core.validators import RegexValidator"
   ]
  },
  {
   "cell_type": "code",
   "execution_count": null,
   "id": "0ad48e9c",
   "metadata": {},
   "outputs": [],
   "source": []
  },
  {
   "cell_type": "code",
   "execution_count": null,
   "id": "881ea06f",
   "metadata": {},
   "outputs": [],
   "source": []
  },
  {
   "cell_type": "code",
   "execution_count": 15,
   "id": "02c571c2",
   "metadata": {},
   "outputs": [],
   "source": [
    "class PostForm(forms.Form):\n",
    "    title = forms.CharField() # 한 줄 입력 박스\n",
    "    content = forms.CharField() # 여러 줄 입력 박스\n",
    "    phone = forms.CharField(\n",
    "        validators=[\n",
    "            RegexValidator(r\"^\\d{3}-?\\d{4}-?\\d{4}$\", message=\"휴대폰번호를 입력해 주세요.\")\n",
    "        ]\n",
    "    )    "
   ]
  },
  {
   "cell_type": "markdown",
   "id": "e0bf4e95",
   "metadata": {},
   "source": [
    "# 입력서식을 보여주고,"
   ]
  },
  {
   "cell_type": "code",
   "execution_count": 5,
   "id": "85e4f7b5",
   "metadata": {},
   "outputs": [
    {
     "data": {
      "text/plain": [
       "'<tr><th><label for=\"id_title\">Title:</label></th><td><input type=\"text\" name=\"title\" required id=\"id_title\"></td></tr>\\n<tr><th><label for=\"id_content\">Content:</label></th><td><input type=\"text\" name=\"content\" required id=\"id_content\"></td></tr>'"
      ]
     },
     "execution_count": 5,
     "metadata": {},
     "output_type": "execute_result"
    }
   ],
   "source": [
    "# 장고 Form을 통해, 입력 서식 HTML을 자동 생성\n",
    "form = PostForm()\n",
    "form.as_table()"
   ]
  },
  {
   "cell_type": "markdown",
   "id": "f087ed55",
   "metadata": {},
   "source": [
    "# 입력 서식에 유저가 값을 기입하고, 저장(submit)을 눌렀을 때"
   ]
  },
  {
   "cell_type": "code",
   "execution_count": 16,
   "id": "25eb7b24",
   "metadata": {},
   "outputs": [
    {
     "name": "stdout",
     "output_type": "stream",
     "text": [
      "에러 메세지 HTML : <ul class=\"errorlist\"><li>phone<ul class=\"errorlist\"><li>휴대폰번호를 입력해 주세요.</li></ul></li></ul>\n"
     ]
    },
    {
     "data": {
      "text/plain": [
       "{'phone': ['휴대폰번호를 입력해 주세요.']}"
      ]
     },
     "execution_count": 16,
     "metadata": {},
     "output_type": "execute_result"
    }
   ],
   "source": [
    "data = {\n",
    "    \"title\": \"제목제목\", # 사용자가 빈칸을 넣었을 상황\n",
    "    \"content\": \"내용내용내용\", # 사용자가 빈칸을 넣었을 상황\n",
    "    \"phone\": \"a010121301234\",\n",
    "}\n",
    "\n",
    "form = PostForm(data)\n",
    "if form.is_valid():\n",
    "    print(\"유효성 검사에 통과한 값들 :\", form.cleaned_data)\n",
    "else:\n",
    "    print(\"에러 메세지 HTML :\", form.errors)\n",
    "form.errors"
   ]
  },
  {
   "cell_type": "markdown",
   "id": "058f66b4",
   "metadata": {},
   "source": [
    "## ※ 서식을 보여주는것과, 값을 입력받는 것 -> 같은 페이지(주소)에서 보여주는것 : django 의 고유 스타일"
   ]
  },
  {
   "cell_type": "code",
   "execution_count": null,
   "id": "e8750929",
   "metadata": {},
   "outputs": [],
   "source": []
  },
  {
   "cell_type": "code",
   "execution_count": null,
   "id": "3ec284b8",
   "metadata": {},
   "outputs": [],
   "source": []
  },
  {
   "cell_type": "code",
   "execution_count": null,
   "id": "71eeaeec",
   "metadata": {},
   "outputs": [],
   "source": []
  },
  {
   "cell_type": "code",
   "execution_count": null,
   "id": "ef69baf5",
   "metadata": {},
   "outputs": [],
   "source": []
  }
 ],
 "metadata": {
  "kernelspec": {
   "display_name": "Python 3 (ipykernel)",
   "language": "python",
   "name": "python3"
  },
  "language_info": {
   "codemirror_mode": {
    "name": "ipython",
    "version": 3
   },
   "file_extension": ".py",
   "mimetype": "text/x-python",
   "name": "python",
   "nbconvert_exporter": "python",
   "pygments_lexer": "ipython3",
   "version": "3.10.0"
  }
 },
 "nbformat": 4,
 "nbformat_minor": 5
}
