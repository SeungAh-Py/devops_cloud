{
 "cells": [
  {
   "cell_type": "code",
   "execution_count": 1,
   "id": "7afe91ac",
   "metadata": {},
   "outputs": [
    {
     "data": {
      "text/plain": [
       "5"
      ]
     },
     "execution_count": 1,
     "metadata": {},
     "output_type": "execute_result"
    }
   ],
   "source": [
    "3 + 2 # Shitf + Enter(실행)"
   ]
  },
  {
   "cell_type": "code",
   "execution_count": 2,
   "id": "61f31076",
   "metadata": {},
   "outputs": [],
   "source": [
    "import xlwings"
   ]
  },
  {
   "cell_type": "code",
   "execution_count": 3,
   "id": "60ca7ba2",
   "metadata": {},
   "outputs": [
    {
     "data": {
      "text/plain": [
       "Sheets([<Sheet [통합 문서1]Sheet1>])"
      ]
     },
     "execution_count": 3,
     "metadata": {},
     "output_type": "execute_result"
    }
   ],
   "source": [
    "xlwings.sheets"
   ]
  },
  {
   "cell_type": "code",
   "execution_count": 4,
   "id": "9f3aca59",
   "metadata": {},
   "outputs": [
    {
     "data": {
      "text/plain": [
       "<Range [통합 문서1]Sheet1!$A$1>"
      ]
     },
     "execution_count": 4,
     "metadata": {},
     "output_type": "execute_result"
    }
   ],
   "source": [
    "xlwings.Range(\"A1\")"
   ]
  },
  {
   "cell_type": "code",
   "execution_count": 5,
   "id": "f103020c",
   "metadata": {},
   "outputs": [
    {
     "data": {
      "text/plain": [
       "<Range [통합 문서1]Sheet1!$A$1:$B$10>"
      ]
     },
     "execution_count": 5,
     "metadata": {},
     "output_type": "execute_result"
    }
   ],
   "source": [
    "xlwings.Range(\"A1\").expand()"
   ]
  },
  {
   "cell_type": "code",
   "execution_count": 6,
   "id": "8d062c02",
   "metadata": {},
   "outputs": [
    {
     "data": {
      "text/plain": [
       "[['message', 'browser'],\n",
       " ['로그#1', 'chorme'],\n",
       " ['로그#2', 'chorme'],\n",
       " ['로그#3', 'chorme'],\n",
       " ['로그#4', 'chorme'],\n",
       " ['로그#5', 'chorme'],\n",
       " ['로그#6', 'chorme'],\n",
       " ['로그#7', 'chorme'],\n",
       " ['로그#8', 'chorme'],\n",
       " ['로그#9', 'chorme']]"
      ]
     },
     "execution_count": 6,
     "metadata": {},
     "output_type": "execute_result"
    }
   ],
   "source": [
    "xlwings.Range(\"A1\").expand().value"
   ]
  },
  {
   "cell_type": "code",
   "execution_count": 7,
   "id": "24fa100d",
   "metadata": {},
   "outputs": [
    {
     "data": {
      "text/plain": [
       "[['message', 'browser'],\n",
       " ['로그#1', 'chorme'],\n",
       " ['로그#2', 'chorme'],\n",
       " ['로그#3', 'chorme'],\n",
       " ['로그#4', 'chorme'],\n",
       " ['로그#5', 'chorme'],\n",
       " ['로그#6', 'chorme'],\n",
       " ['로그#7', 'chorme'],\n",
       " ['로그#8', 'chorme'],\n",
       " ['로그#9', 'chorme']]"
      ]
     },
     "execution_count": 7,
     "metadata": {},
     "output_type": "execute_result"
    }
   ],
   "source": [
    "total_rows = xlwings.Range(\"A1\").expand().value\n",
    "total_rows"
   ]
  },
  {
   "cell_type": "code",
   "execution_count": 9,
   "id": "0f66d25d",
   "metadata": {},
   "outputs": [
    {
     "data": {
      "text/plain": [
       "['message', 'browser']"
      ]
     },
     "execution_count": 9,
     "metadata": {},
     "output_type": "execute_result"
    }
   ],
   "source": [
    "column_names = total_rows[0]\n",
    "column_names"
   ]
  },
  {
   "cell_type": "code",
   "execution_count": 10,
   "id": "8aae24cc",
   "metadata": {},
   "outputs": [
    {
     "data": {
      "text/plain": [
       "[['로그#1', 'chorme'],\n",
       " ['로그#2', 'chorme'],\n",
       " ['로그#3', 'chorme'],\n",
       " ['로그#4', 'chorme'],\n",
       " ['로그#5', 'chorme'],\n",
       " ['로그#6', 'chorme'],\n",
       " ['로그#7', 'chorme'],\n",
       " ['로그#8', 'chorme'],\n",
       " ['로그#9', 'chorme']]"
      ]
     },
     "execution_count": 10,
     "metadata": {},
     "output_type": "execute_result"
    }
   ],
   "source": [
    "total_rows[1:]"
   ]
  },
  {
   "cell_type": "code",
   "execution_count": 13,
   "id": "6377c51a",
   "metadata": {},
   "outputs": [
    {
     "name": "stdout",
     "output_type": "stream",
     "text": [
      "{'message': '로그#1', 'browser': 'chorme'}\n",
      "{'message': '로그#2', 'browser': 'chorme'}\n",
      "{'message': '로그#3', 'browser': 'chorme'}\n",
      "{'message': '로그#4', 'browser': 'chorme'}\n",
      "{'message': '로그#5', 'browser': 'chorme'}\n",
      "{'message': '로그#6', 'browser': 'chorme'}\n",
      "{'message': '로그#7', 'browser': 'chorme'}\n",
      "{'message': '로그#8', 'browser': 'chorme'}\n",
      "{'message': '로그#9', 'browser': 'chorme'}\n"
     ]
    }
   ],
   "source": [
    "for row in total_rows[1:]:\n",
    "    row_dict = dict(zip(column_names, row))\n",
    "    print(row_dict)"
   ]
  },
  {
   "cell_type": "code",
   "execution_count": 14,
   "id": "65a9c739",
   "metadata": {},
   "outputs": [
    {
     "data": {
      "text/plain": [
       "[{'message': '로그#1', 'browser': 'chorme'},\n",
       " {'message': '로그#2', 'browser': 'chorme'},\n",
       " {'message': '로그#3', 'browser': 'chorme'},\n",
       " {'message': '로그#4', 'browser': 'chorme'},\n",
       " {'message': '로그#5', 'browser': 'chorme'},\n",
       " {'message': '로그#6', 'browser': 'chorme'},\n",
       " {'message': '로그#7', 'browser': 'chorme'},\n",
       " {'message': '로그#8', 'browser': 'chorme'},\n",
       " {'message': '로그#9', 'browser': 'chorme'}]"
      ]
     },
     "execution_count": 14,
     "metadata": {},
     "output_type": "execute_result"
    }
   ],
   "source": [
    "# list comprehension\n",
    "[\n",
    "    dict(zip(column_names, row))\n",
    "    for row in total_rows[1:]\n",
    "]"
   ]
  },
  {
   "cell_type": "code",
   "execution_count": 15,
   "id": "23c184c3",
   "metadata": {},
   "outputs": [
    {
     "data": {
      "text/plain": [
       "[{'message': '로그#1', 'browser': 'chorme'},\n",
       " {'message': '로그#2', 'browser': 'chorme'},\n",
       " {'message': '로그#3', 'browser': 'chorme'},\n",
       " {'message': '로그#4', 'browser': 'chorme'},\n",
       " {'message': '로그#5', 'browser': 'chorme'},\n",
       " {'message': '로그#6', 'browser': 'chorme'},\n",
       " {'message': '로그#7', 'browser': 'chorme'},\n",
       " {'message': '로그#8', 'browser': 'chorme'},\n",
       " {'message': '로그#9', 'browser': 'chorme'}]"
      ]
     },
     "execution_count": 15,
     "metadata": {},
     "output_type": "execute_result"
    }
   ],
   "source": [
    "# list comprehension\n",
    "rows_data = [\n",
    "    dict(zip(column_names, row))\n",
    "    for row in total_rows[1:]\n",
    "]\n",
    "rows_data"
   ]
  },
  {
   "cell_type": "markdown",
   "id": "dfea4103",
   "metadata": {},
   "source": [
    "# 정리"
   ]
  },
  {
   "cell_type": "code",
   "execution_count": 18,
   "id": "46fb83f6",
   "metadata": {},
   "outputs": [
    {
     "data": {
      "text/plain": [
       "[{'message': '로그#1', 'browser': 'chorme'},\n",
       " {'message': '로그#2', 'browser': 'chorme'},\n",
       " {'message': '로그#3', 'browser': 'chorme'},\n",
       " {'message': '로그#4', 'browser': 'chorme'},\n",
       " {'message': '로그#5', 'browser': 'chorme'},\n",
       " {'message': '로그#6', 'browser': 'chorme'},\n",
       " {'message': '로그#7', 'browser': 'chorme'},\n",
       " {'message': '로그#8', 'browser': 'chorme'},\n",
       " {'message': '로그#9', 'browser': 'chorme'}]"
      ]
     },
     "execution_count": 18,
     "metadata": {},
     "output_type": "execute_result"
    }
   ],
   "source": [
    "def get_rows_data():\n",
    "    total_rows = xlwings.Range(\"A1\").expand().value\n",
    "    column_names = total_rows[0]\n",
    "    rows_data = [\n",
    "        dict(zip(column_names, row))\n",
    "        for row in total_rows[1:]\n",
    "    ]\n",
    "    return rows_data\n",
    "\n",
    "get_rows_data()"
   ]
  },
  {
   "cell_type": "markdown",
   "id": "7201dabe",
   "metadata": {},
   "source": [
    "# 데이터베이스 접속"
   ]
  },
  {
   "cell_type": "code",
   "execution_count": 21,
   "id": "5ef0fc67",
   "metadata": {},
   "outputs": [],
   "source": [
    "DATABASE = {\n",
    "    \"host\" : \"127.0.0.1\",\n",
    "    \"user\" : \"root\",\n",
    "    \"password\" : \"1234\",\n",
    "    \"db\" : \"myproj11_db\",\n",
    "    \"charset\" : \"utf8\"\n",
    "}"
   ]
  },
  {
   "cell_type": "code",
   "execution_count": 25,
   "id": "b14604a8",
   "metadata": {},
   "outputs": [
    {
     "name": "stdout",
     "output_type": "stream",
     "text": [
      "()\n"
     ]
    }
   ],
   "source": [
    "import pymysql\n",
    "\n",
    "connection = pymysql.connect(**DATABASE)\n",
    "cursor = connection.cursor()\n",
    "cursor.execute(\"SELECT * FROM log\")\n",
    "print(cursor.fetchall())\n",
    "cursor.close()"
   ]
  },
  {
   "cell_type": "markdown",
   "id": "10a762ae",
   "metadata": {},
   "source": [
    "# with 절"
   ]
  },
  {
   "cell_type": "code",
   "execution_count": 29,
   "id": "d4a84ed6",
   "metadata": {},
   "outputs": [],
   "source": [
    "import pymysql\n",
    "from contextlib import contextmanager\n",
    "\n",
    "@contextmanager\n",
    "def db_cursor():\n",
    "    connection = pymysql.connect(**DATABASE)\n",
    "    cursor = connection.cursor()\n",
    "    try:\n",
    "        yield cursor\n",
    "    finally:\n",
    "        cursor.close()"
   ]
  },
  {
   "cell_type": "code",
   "execution_count": 31,
   "id": "14c070c3",
   "metadata": {},
   "outputs": [
    {
     "name": "stdout",
     "output_type": "stream",
     "text": [
      "()\n"
     ]
    }
   ],
   "source": [
    "with db_cursor() as cursor:\n",
    "    cursor.execute(\"SELECT * FROM log\")\n",
    "    print(cursor.fetchall())"
   ]
  },
  {
   "cell_type": "code",
   "execution_count": null,
   "id": "6c356ce9",
   "metadata": {},
   "outputs": [],
   "source": []
  },
  {
   "cell_type": "code",
   "execution_count": 48,
   "id": "88c9be29",
   "metadata": {},
   "outputs": [],
   "source": [
    "column_data = {'message' : '로그#1', 'browser' : 'chrome'}\n",
    "\n",
    "with db_cursor() as cursor:\n",
    "    for row in get_rows_data():\n",
    "        sql = \"INSERT INTO LOG(message, browser) VALUES(%(message)s, %(browser)s)\"\n",
    "        cursor.execute(sql, row_dict)"
   ]
  },
  {
   "cell_type": "code",
   "execution_count": null,
   "id": "bd6933c8",
   "metadata": {},
   "outputs": [],
   "source": []
  },
  {
   "cell_type": "code",
   "execution_count": 33,
   "id": "3a51072b",
   "metadata": {},
   "outputs": [
    {
     "data": {
      "text/plain": [
       "[{'message': '로그#1', 'browser': 'chorme'},\n",
       " {'message': '로그#2', 'browser': 'chorme'},\n",
       " {'message': '로그#3', 'browser': 'chorme'},\n",
       " {'message': '로그#4', 'browser': 'chorme'},\n",
       " {'message': '로그#5', 'browser': 'chorme'},\n",
       " {'message': '로그#6', 'browser': 'chorme'},\n",
       " {'message': '로그#7', 'browser': 'chorme'},\n",
       " {'message': '로그#8', 'browser': 'chorme'},\n",
       " {'message': '로그#9', 'browser': 'chorme'}]"
      ]
     },
     "execution_count": 33,
     "metadata": {},
     "output_type": "execute_result"
    }
   ],
   "source": [
    "get_rows_data()"
   ]
  },
  {
   "cell_type": "code",
   "execution_count": null,
   "id": "284fda16",
   "metadata": {},
   "outputs": [],
   "source": []
  },
  {
   "cell_type": "code",
   "execution_count": 52,
   "id": "75eef4d1",
   "metadata": {},
   "outputs": [
    {
     "name": "stdout",
     "output_type": "stream",
     "text": [
      "(5, '로그#1', 'chrome')\n"
     ]
    }
   ],
   "source": [
    "with db_cursor() as cursor:\n",
    "    sql = \"SELECT * FROM LOG\"\n",
    "    cursor.execute(sql)\n",
    "#     while True:\n",
    "#         row = cursor.fetchone()\n",
    "#         print(row)\n",
    "#         if row is None:\n",
    "#             break\n",
    "#         print(row)\n",
    "    for row in cursor:\n",
    "        print(row)"
   ]
  },
  {
   "cell_type": "markdown",
   "id": "1836feb0",
   "metadata": {},
   "source": [
    "# SQL Injection 공격의 예"
   ]
  },
  {
   "cell_type": "code",
   "execution_count": 62,
   "id": "902d7b34",
   "metadata": {},
   "outputs": [],
   "source": [
    "with db_cursor() as cursor:\n",
    "    log_id = '1 or 1'\n",
    "    # sql = \"SELECT * FROM LOG WHERE id = \" + str(log_id)\n",
    "    # sql = \"SELECT * FROM LOG WHERE id = 1 or 1\"\n",
    "    \n",
    "    sql = \"SELECT * FROM LOG WHERE id = %s\"\n",
    "    cursor.execute(sql, [log_id])\n",
    "    for row in cursor:\n",
    "        print(row)"
   ]
  },
  {
   "cell_type": "code",
   "execution_count": null,
   "id": "7347f7fc",
   "metadata": {},
   "outputs": [],
   "source": []
  },
  {
   "cell_type": "markdown",
   "id": "3869f69b",
   "metadata": {},
   "source": [
    "# 데이터 매핑의 예"
   ]
  },
  {
   "cell_type": "code",
   "execution_count": 65,
   "id": "76e4b8b7",
   "metadata": {},
   "outputs": [
    {
     "data": {
      "text/plain": [
       "((26, '로그#5', 'chrome'), (27, '로그#6', 'chrome'))"
      ]
     },
     "execution_count": 65,
     "metadata": {},
     "output_type": "execute_result"
    }
   ],
   "source": [
    "with db_cursor() as cursor:\n",
    "    cursor.execute(\"SELECT * FROM log\")\n",
    "    rows_data = cursor.fetchall()\n",
    "#    for row in cursor:\n",
    "#        row[0] # id\n",
    "#        row[1] # message\n",
    "#        row[2] # chrome\n",
    "#        print(row)\n",
    "\n",
    "rows_data"
   ]
  },
  {
   "cell_type": "markdown",
   "id": "c001508d",
   "metadata": {},
   "source": [
    "## dic으로의 변환"
   ]
  },
  {
   "cell_type": "markdown",
   "id": "6b5e24e2",
   "metadata": {},
   "source": [
    "## namedtuple"
   ]
  },
  {
   "cell_type": "code",
   "execution_count": 67,
   "id": "7b975e09",
   "metadata": {},
   "outputs": [],
   "source": [
    "from collections import namedtuple\n",
    "\n",
    "Log = namedtuple('Log', 'id message browser')"
   ]
  },
  {
   "cell_type": "code",
   "execution_count": null,
   "id": "e5078e16",
   "metadata": {},
   "outputs": [],
   "source": []
  },
  {
   "cell_type": "code",
   "execution_count": null,
   "id": "8fa6d719",
   "metadata": {},
   "outputs": [],
   "source": []
  },
  {
   "cell_type": "code",
   "execution_count": 90,
   "id": "523d6a86",
   "metadata": {},
   "outputs": [
    {
     "name": "stdout",
     "output_type": "stream",
     "text": [
      "1\n",
      "message\n",
      "chrome\n"
     ]
    }
   ],
   "source": [
    "Log = (1, 'message', 'chrome')\n",
    "print(log[0])\n",
    "print(log[1])\n",
    "print(log[2])"
   ]
  },
  {
   "cell_type": "code",
   "execution_count": null,
   "id": "8041456b",
   "metadata": {},
   "outputs": [],
   "source": []
  },
  {
   "cell_type": "code",
   "execution_count": 66,
   "id": "669aa24f",
   "metadata": {},
   "outputs": [
    {
     "data": {
      "text/plain": [
       "((26, '로그#5', 'chrome'), (27, '로그#6', 'chrome'))"
      ]
     },
     "execution_count": 66,
     "metadata": {},
     "output_type": "execute_result"
    }
   ],
   "source": [
    "rows_data"
   ]
  },
  {
   "cell_type": "code",
   "execution_count": null,
   "id": "527305e7",
   "metadata": {},
   "outputs": [],
   "source": []
  },
  {
   "cell_type": "code",
   "execution_count": 91,
   "id": "90e2c261",
   "metadata": {},
   "outputs": [
    {
     "ename": "TypeError",
     "evalue": "'tuple' object is not callable",
     "output_type": "error",
     "traceback": [
      "\u001b[1;31m---------------------------------------------------------------------------\u001b[0m",
      "\u001b[1;31mTypeError\u001b[0m                                 Traceback (most recent call last)",
      "\u001b[1;32m~\\AppData\\Local\\Temp/ipykernel_11496/3734792830.py\u001b[0m in \u001b[0;36m<module>\u001b[1;34m\u001b[0m\n\u001b[0;32m      1\u001b[0m \u001b[1;32mwith\u001b[0m \u001b[0mdb_cursor\u001b[0m\u001b[1;33m(\u001b[0m\u001b[1;33m)\u001b[0m \u001b[1;32mas\u001b[0m \u001b[0mcursor\u001b[0m\u001b[1;33m:\u001b[0m\u001b[1;33m\u001b[0m\u001b[1;33m\u001b[0m\u001b[0m\n\u001b[0;32m      2\u001b[0m     \u001b[0mcursor\u001b[0m\u001b[1;33m.\u001b[0m\u001b[0mexecute\u001b[0m\u001b[1;33m(\u001b[0m\u001b[1;34m\"SELECT * FROM log\"\u001b[0m\u001b[1;33m)\u001b[0m\u001b[1;33m\u001b[0m\u001b[1;33m\u001b[0m\u001b[0m\n\u001b[1;32m----> 3\u001b[1;33m     rows_data = [\n\u001b[0m\u001b[0;32m      4\u001b[0m         \u001b[0mLog\u001b[0m\u001b[1;33m(\u001b[0m\u001b[1;33m*\u001b[0m\u001b[0mrow\u001b[0m\u001b[1;33m)\u001b[0m\u001b[1;33m\u001b[0m\u001b[1;33m\u001b[0m\u001b[0m\n\u001b[0;32m      5\u001b[0m         for row in cursor.fetchall()]\n",
      "\u001b[1;32m~\\AppData\\Local\\Temp/ipykernel_11496/3734792830.py\u001b[0m in \u001b[0;36m<listcomp>\u001b[1;34m(.0)\u001b[0m\n\u001b[0;32m      2\u001b[0m     \u001b[0mcursor\u001b[0m\u001b[1;33m.\u001b[0m\u001b[0mexecute\u001b[0m\u001b[1;33m(\u001b[0m\u001b[1;34m\"SELECT * FROM log\"\u001b[0m\u001b[1;33m)\u001b[0m\u001b[1;33m\u001b[0m\u001b[1;33m\u001b[0m\u001b[0m\n\u001b[0;32m      3\u001b[0m     rows_data = [\n\u001b[1;32m----> 4\u001b[1;33m         \u001b[0mLog\u001b[0m\u001b[1;33m(\u001b[0m\u001b[1;33m*\u001b[0m\u001b[0mrow\u001b[0m\u001b[1;33m)\u001b[0m\u001b[1;33m\u001b[0m\u001b[1;33m\u001b[0m\u001b[0m\n\u001b[0m\u001b[0;32m      5\u001b[0m         for row in cursor.fetchall()]\n\u001b[0;32m      6\u001b[0m \u001b[1;33m\u001b[0m\u001b[0m\n",
      "\u001b[1;31mTypeError\u001b[0m: 'tuple' object is not callable"
     ]
    }
   ],
   "source": [
    "with db_cursor() as cursor:\n",
    "    cursor.execute(\"SELECT * FROM log\")\n",
    "    rows_data = [\n",
    "        Log(*row)\n",
    "        for row in cursor.fetchall()]\n",
    "    \n",
    "rows_data"
   ]
  },
  {
   "cell_type": "code",
   "execution_count": null,
   "id": "36bc7715",
   "metadata": {},
   "outputs": [],
   "source": []
  },
  {
   "cell_type": "code",
   "execution_count": null,
   "id": "8afc79ef",
   "metadata": {},
   "outputs": [],
   "source": []
  }
 ],
 "metadata": {
  "kernelspec": {
   "display_name": "Python 3 (ipykernel)",
   "language": "python",
   "name": "python3"
  },
  "language_info": {
   "codemirror_mode": {
    "name": "ipython",
    "version": 3
   },
   "file_extension": ".py",
   "mimetype": "text/x-python",
   "name": "python",
   "nbconvert_exporter": "python",
   "pygments_lexer": "ipython3",
   "version": "3.10.0"
  }
 },
 "nbformat": 4,
 "nbformat_minor": 5
}
